{
 "cells": [
  {
   "cell_type": "markdown",
   "id": "8184339c-74dd-415c-a222-7f27309c090f",
   "metadata": {
    "tags": []
   },
   "source": [
    "# Data Science Tools and Ecosystem"
   ]
  },
  {
   "cell_type": "markdown",
   "id": "1d5e7cc3-4e03-40e5-afe2-ef23fde5e143",
   "metadata": {},
   "source": [
    "In this notebook, Data Science Tools and Ecosystem are summarized."
   ]
  },
  {
   "cell_type": "markdown",
   "id": "00c67b28-ac3d-4a34-9d2a-9de9c7dde817",
   "metadata": {},
   "source": [
    "Objectives:\n",
    "* list popular languages for DS\n",
    "* list popular libraries for DS\n",
    "* list some DS tools\n",
    "* demonstrate basic arithmetics\n",
    "## Author\n",
    "Pieter Blomme"
   ]
  },
  {
   "cell_type": "markdown",
   "id": "9275c635-fa40-433b-a58c-9bf4c3642507",
   "metadata": {},
   "source": [
    "Some of the popular languages that Data Scientists use are:\n",
    "1. python\n",
    "2. R\n",
    "3. SQL\n",
    "4. scala\n",
    "5. LISP"
   ]
  },
  {
   "cell_type": "markdown",
   "id": "3cf03853-18ba-4149-b74d-16a7a4001bd5",
   "metadata": {
    "tags": []
   },
   "source": [
    "Some of the commonly used libraries used by Data Scientists include:\n",
    "1. pandas\n",
    "2. numpy\n",
    "3. matplotlib\n",
    "4. torch\n",
    "5. tensorflow\n",
    "6. keras"
   ]
  },
  {
   "cell_type": "markdown",
   "id": "4e801ad8-cdcc-4372-8b5c-06a83caf1ad1",
   "metadata": {
    "tags": []
   },
   "source": [
    "|Data science tools|\n",
    "|---|\n",
    "|jupyter notebook|\n",
    "|spyder|\n",
    "|eclipse workbench|\n",
    "|vscode|"
   ]
  },
  {
   "cell_type": "markdown",
   "id": "cb4cefcf-e7ff-4e05-b701-b0713d86fa3f",
   "metadata": {},
   "source": [
    "### Below are a few examples of evaluating arithmetics expressions in python\n"
   ]
  },
  {
   "cell_type": "code",
   "execution_count": 5,
   "id": "5d78469e-d6d9-45db-a1ce-dd4ed048c7ca",
   "metadata": {
    "tags": []
   },
   "outputs": [
    {
     "data": {
      "text/plain": [
       "17"
      ]
     },
     "execution_count": 5,
     "metadata": {},
     "output_type": "execute_result"
    }
   ],
   "source": [
    "# This example shows a basic arithmetic expression to mutliply and add integers with superfluous paranthesis:\n",
    "(3*4)+5"
   ]
  },
  {
   "cell_type": "code",
   "execution_count": 8,
   "id": "3d3e4efa-429a-448e-ad75-600678822f10",
   "metadata": {
    "tags": []
   },
   "outputs": [
    {
     "data": {
      "text/plain": [
       "(3, 20)"
      ]
     },
     "execution_count": 8,
     "metadata": {},
     "output_type": "execute_result"
    }
   ],
   "source": [
    "# This will confert 200 minutes to (hours, minutes) by dividing by 60.\n",
    "divmod(200,60)\n",
    "# If fractional hours are desired, the line below should be uncommented instead:\n",
    "# 200/60"
   ]
  },
  {
   "cell_type": "code",
   "execution_count": null,
   "id": "688eb316-a8d9-4e3d-a39b-49913a0c3108",
   "metadata": {},
   "outputs": [],
   "source": []
  }
 ],
 "metadata": {
  "kernelspec": {
   "display_name": "Python",
   "language": "python",
   "name": "conda-env-python-py"
  },
  "language_info": {
   "codemirror_mode": {
    "name": "ipython",
    "version": 3
   },
   "file_extension": ".py",
   "mimetype": "text/x-python",
   "name": "python",
   "nbconvert_exporter": "python",
   "pygments_lexer": "ipython3",
   "version": "3.7.12"
  }
 },
 "nbformat": 4,
 "nbformat_minor": 5
}
